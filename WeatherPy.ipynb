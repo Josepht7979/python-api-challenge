{
 "cells": [
  {
   "cell_type": "markdown",
   "metadata": {},
   "source": [
    "# WeatherPy\n",
    "----\n",
    "\n",
    "#### Note\n",
    "* Instructions have been included for each segment. You do not have to follow them exactly, but they are included to help you think through the steps."
   ]
  },
  {
   "cell_type": "code",
   "execution_count": 1,
   "metadata": {},
   "outputs": [],
   "source": [
    "# Dependencies and Setup\n",
    "import matplotlib.pyplot as plt\n",
    "import pandas as pd\n",
    "import numpy as np\n",
    "import requests\n",
    "import time\n",
    "import json\n",
    "import scipy.stats as st\n",
    "from scipy.stats import linregress\n",
    "from scipy import stats\n",
    "from datetime import date\n",
    "from citipy import citipy\n",
    "from pprint import pprint\n",
    "from api_keys import weather_api_key\n",
    "from api_keys import g_key\n",
    "\n",
    "# Set output file path\n",
    "output_data_file = 2369\n",
    "\n",
    "# Set range of latitudes and longitudes\n",
    "lat_range = (-90, 90)\n",
    "lng_range = (-180, 180)"
   ]
  },
  {
   "cell_type": "code",
   "execution_count": null,
   "metadata": {
    "scrolled": true
   },
   "outputs": [],
   "source": []
  },
  {
   "cell_type": "markdown",
   "metadata": {},
   "source": [
    "## Generate Cities List"
   ]
  },
  {
   "cell_type": "code",
   "execution_count": 2,
   "metadata": {},
   "outputs": [
    {
     "data": {
      "text/plain": [
       "627"
      ]
     },
     "execution_count": 2,
     "metadata": {},
     "output_type": "execute_result"
    }
   ],
   "source": [
    "# Lists for holding latitude, longitude and cities\n",
    "lat_lngs = []\n",
    "cities = []\n",
    "\n",
    "# Create a set of random lat and lng combinations\n",
    "lats = np.random.uniform(low=-90.000, high=90.000, size=1500)\n",
    "lngs = np.random.uniform(low=-180.000, high=180.000, size=1500)\n",
    "lat_lngs = zip(lats, lngs)\n",
    "\n",
    "# Identify nearest city for each lat, lng combination\n",
    "for lat_lng in lat_lngs:\n",
    "    city = citipy.nearest_city(lat_lng[0], lat_lng[1]).city_name\n",
    "    \n",
    "# If the city is unique, then add it to a our cities list\n",
    "    if city not in cities:\n",
    "        cities.append(city)\n",
    "\n",
    "# Print the city count to confirm sufficient count\n",
    "len(cities)"
   ]
  },
  {
   "cell_type": "code",
   "execution_count": null,
   "metadata": {},
   "outputs": [],
   "source": []
  },
  {
   "cell_type": "code",
   "execution_count": 3,
   "metadata": {},
   "outputs": [],
   "source": [
    "# Create lists to hold data\n",
    "city_name_list = []\n",
    "cloudiness_list = []\n",
    "country_list = []\n",
    "date_list = []\n",
    "humidity_list = []\n",
    "lat_list = []\n",
    "lng_list = []\n",
    "max_temp_list = []\n",
    "wind_speed_list = []\n",
    "index_counter = 0\n",
    "set_counter = 1"
   ]
  },
  {
   "cell_type": "markdown",
   "metadata": {},
   "source": [
    "### Perform API Calls\n",
    "* Perform a weather check on each city using a series of successive API calls.\n",
    "* Include a print log of each city as it'sbeing processed (with the city number and city name).\n"
   ]
  },
  {
   "cell_type": "code",
   "execution_count": 4,
   "metadata": {},
   "outputs": [
    {
     "data": {
      "text/plain": [
       "'http://api.openweathermap.org/data/2.5/weather?appid=55fb9823a20c70e9d28d096302f04a28&units=imperial&q='"
      ]
     },
     "execution_count": 4,
     "metadata": {},
     "output_type": "execute_result"
    }
   ],
   "source": [
    "base_url = \"http://api.openweathermap.org/data/2.5/weather?\"\n",
    "units = \"imperial\"\n",
    "query_url = f\"{base_url}appid={weather_api_key}&units={units}&q=\"\n",
    "query_url"
   ]
  },
  {
   "cell_type": "code",
   "execution_count": 5,
   "metadata": {
    "scrolled": false
   },
   "outputs": [
    {
     "name": "stdout",
     "output_type": "stream",
     "text": [
      "Beginning Data Retrieval \n",
      "-----------------------------\n",
      "Processing Record 1 of Set 1 : saskylakh\n",
      "Processing Record 2 of Set 1 : hithadhoo\n",
      "Processing Record 3 of Set 1 : moscow\n",
      "Processing Record 4 of Set 1 : rikitea\n",
      "Processing Record 5 of Set 1 : bluff\n",
      "Processing Record 6 of Set 1 : jamestown\n",
      "Processing Record 7 of Set 1 : nanortalik\n",
      "Processing Record 8 of Set 1 : sao filipe\n",
      "Processing Record 9 of Set 1 : saldanha\n",
      "Processing Record 10 of Set 1 : gasa\n",
      "Processing Record 11 of Set 1 : ushuaia\n",
      "Processing Record 12 of Set 1 : gizo\n",
      "Processing Record 13 of Set 1 : gamba\n",
      "Processing Record 14 of Set 1 : adrar\n",
      "Processing Record 15 of Set 1 : saint george\n",
      "Processing Record 16 of Set 1 : roma\n",
      "Processing Record 17 of Set 1 : avera\n",
      "Processing Record 18 of Set 1 : hobart\n",
      "Processing Record 19 of Set 1 : salalah\n",
      "Processing Record 20 of Set 1 : hohhot\n",
      "Processing Record 21 of Set 1 : bon air\n",
      "Processing Record 22 of Set 1 : constitucion\n",
      "Processing Record 23 of Set 1 : qaanaaq\n",
      "City not found. Skipping...\n",
      "Processing Record 24 of Set 1 : vaini\n",
      "Processing Record 25 of Set 1 : bambous virieux\n",
      "City not found. Skipping...\n",
      "Processing Record 26 of Set 1 : lebu\n",
      "City not found. Skipping...\n",
      "Processing Record 27 of Set 1 : dikson\n",
      "Processing Record 28 of Set 1 : jalu\n",
      "Processing Record 29 of Set 1 : atuona\n",
      "Processing Record 30 of Set 1 : albany\n",
      "Processing Record 31 of Set 1 : punta arenas\n",
      "Processing Record 32 of Set 1 : alyangula\n",
      "Processing Record 33 of Set 1 : saint anthony\n",
      "City not found. Skipping...\n",
      "Processing Record 34 of Set 1 : karakol\n",
      "Processing Record 35 of Set 1 : ganzhou\n",
      "Processing Record 36 of Set 1 : avarua\n",
      "Processing Record 37 of Set 1 : mataura\n",
      "Processing Record 38 of Set 1 : bredasdorp\n",
      "Processing Record 39 of Set 1 : el tigre\n",
      "Processing Record 40 of Set 1 : altamirano\n",
      "Processing Record 41 of Set 1 : verkhoyansk\n",
      "Processing Record 42 of Set 1 : apatou\n",
      "Processing Record 43 of Set 1 : walvis bay\n",
      "Processing Record 44 of Set 1 : torbay\n",
      "Processing Record 45 of Set 1 : sakata\n",
      "Processing Record 46 of Set 1 : viedma\n",
      "Processing Record 47 of Set 1 : kununurra\n",
      "Processing Record 48 of Set 1 : flagstaff\n",
      "Processing Record 49 of Set 1 : east london\n",
      "Processing Record 50 of Set 1 : trelew\n",
      "Processing Record 0 of Set 2 : lere\n",
      "Processing Record 1 of Set 2 : san patricio\n",
      "Processing Record 2 of Set 2 : airai\n",
      "Processing Record 3 of Set 2 : zhigansk\n",
      "Processing Record 4 of Set 2 : gat\n",
      "Processing Record 5 of Set 2 : nikolskoye\n",
      "Processing Record 6 of Set 2 : areia branca\n",
      "Processing Record 7 of Set 2 : cape town\n",
      "Processing Record 8 of Set 2 : ilulissat\n",
      "Processing Record 9 of Set 2 : kavieng\n",
      "Processing Record 10 of Set 2 : lumphat\n",
      "Processing Record 11 of Set 2 : quatre cocos\n",
      "Processing Record 12 of Set 2 : svobodnyy\n",
      "Processing Record 13 of Set 2 : narsaq\n",
      "Processing Record 14 of Set 2 : thompson\n",
      "Processing Record 15 of Set 2 : arraial do cabo\n",
      "Processing Record 16 of Set 2 : honningsvag\n",
      "Processing Record 17 of Set 2 : hilo\n",
      "City not found. Skipping...\n",
      "Processing Record 18 of Set 2 : kieta\n",
      "Processing Record 19 of Set 2 : okato\n",
      "Processing Record 20 of Set 2 : kencong\n",
      "Processing Record 21 of Set 2 : anchorage\n",
      "Processing Record 22 of Set 2 : okakarara\n",
      "Processing Record 23 of Set 2 : baykalsk\n",
      "Processing Record 24 of Set 2 : gold coast\n",
      "Processing Record 25 of Set 2 : cidreira\n",
      "Processing Record 26 of Set 2 : lorengau\n",
      "Processing Record 27 of Set 2 : fort nelson\n",
      "Processing Record 28 of Set 2 : thinadhoo\n",
      "Processing Record 29 of Set 2 : hasaki\n",
      "Processing Record 30 of Set 2 : ekibastuz\n",
      "Processing Record 31 of Set 2 : kurilsk\n",
      "Processing Record 32 of Set 2 : coihaique\n",
      "Processing Record 33 of Set 2 : kodiak\n",
      "Processing Record 34 of Set 2 : manado\n",
      "City not found. Skipping...\n",
      "Processing Record 35 of Set 2 : klaksvik\n",
      "Processing Record 36 of Set 2 : chardara\n",
      "Processing Record 37 of Set 2 : znamenskoye\n",
      "Processing Record 38 of Set 2 : new norfolk\n",
      "Processing Record 39 of Set 2 : saint-philippe\n",
      "Processing Record 40 of Set 2 : tura\n",
      "Processing Record 41 of Set 2 : staryy nadym\n",
      "Processing Record 42 of Set 2 : tacuarembo\n",
      "Processing Record 43 of Set 2 : sorland\n",
      "Processing Record 44 of Set 2 : ancud\n",
      "Processing Record 45 of Set 2 : tuatapere\n",
      "Processing Record 46 of Set 2 : port alfred\n",
      "Processing Record 47 of Set 2 : kankan\n",
      "City not found. Skipping...\n",
      "Processing Record 48 of Set 2 : port pirie\n",
      "City not found. Skipping...\n",
      "Processing Record 49 of Set 2 : yellowknife\n",
      "Processing Record 50 of Set 2 : kapaa\n",
      "Processing Record 0 of Set 3 : ribeira grande\n",
      "City not found. Skipping...\n",
      "Processing Record 1 of Set 3 : kruisfontein\n",
      "Processing Record 2 of Set 3 : husavik\n",
      "Processing Record 3 of Set 3 : boshnyakovo\n",
      "City not found. Skipping...\n",
      "Processing Record 4 of Set 3 : naze\n",
      "Processing Record 5 of Set 3 : rawah\n",
      "Processing Record 6 of Set 3 : roald\n",
      "Processing Record 7 of Set 3 : geraldton\n",
      "Processing Record 8 of Set 3 : tasiilaq\n",
      "Processing Record 9 of Set 3 : griffith\n",
      "Processing Record 10 of Set 3 : ostrovnoy\n",
      "Processing Record 11 of Set 3 : pervomayskiy\n",
      "Processing Record 12 of Set 3 : kiama\n",
      "Processing Record 13 of Set 3 : barrow\n",
      "Processing Record 14 of Set 3 : busselton\n",
      "Processing Record 15 of Set 3 : lagoa\n",
      "City not found. Skipping...\n",
      "Processing Record 16 of Set 3 : aklavik\n",
      "Processing Record 17 of Set 3 : hermanus\n",
      "Processing Record 18 of Set 3 : mirador\n",
      "Processing Record 19 of Set 3 : mar del plata\n",
      "City not found. Skipping...\n",
      "Processing Record 20 of Set 3 : touros\n",
      "Processing Record 21 of Set 3 : bukama\n",
      "City not found. Skipping...\n",
      "Processing Record 22 of Set 3 : alice springs\n",
      "Processing Record 23 of Set 3 : khatanga\n",
      "City not found. Skipping...\n",
      "Processing Record 24 of Set 3 : tooele\n",
      "City not found. Skipping...\n",
      "Processing Record 25 of Set 3 : abha\n",
      "Processing Record 26 of Set 3 : khurai\n",
      "Processing Record 27 of Set 3 : vao\n",
      "Processing Record 28 of Set 3 : katsuura\n",
      "City not found. Skipping...\n",
      "Processing Record 29 of Set 3 : kasongo-lunda\n",
      "Processing Record 30 of Set 3 : vicuna\n",
      "Processing Record 31 of Set 3 : vila velha\n",
      "Processing Record 32 of Set 3 : chicama\n",
      "Processing Record 33 of Set 3 : khartoum\n",
      "Processing Record 34 of Set 3 : nishihara\n",
      "Processing Record 35 of Set 3 : porto torres\n",
      "Processing Record 36 of Set 3 : lata\n",
      "Processing Record 37 of Set 3 : bonavista\n",
      "Processing Record 38 of Set 3 : asyut\n",
      "Processing Record 39 of Set 3 : vikhorevka\n",
      "Processing Record 40 of Set 3 : batticaloa\n",
      "Processing Record 41 of Set 3 : codrington\n",
      "Processing Record 42 of Set 3 : ondjiva\n",
      "Processing Record 43 of Set 3 : caramay\n",
      "Processing Record 44 of Set 3 : bethel\n",
      "Processing Record 45 of Set 3 : hobyo\n",
      "Processing Record 46 of Set 3 : wajir\n",
      "Processing Record 47 of Set 3 : pisco\n",
      "Processing Record 48 of Set 3 : osypenko\n",
      "Processing Record 49 of Set 3 : port elizabeth\n",
      "Processing Record 50 of Set 3 : nemuro\n",
      "Processing Record 0 of Set 4 : longyearbyen\n",
      "Processing Record 1 of Set 4 : anadyr\n",
      "Processing Record 2 of Set 4 : bulgan\n",
      "Processing Record 3 of Set 4 : coromandel\n",
      "Processing Record 4 of Set 4 : tuktoyaktuk\n",
      "Processing Record 5 of Set 4 : hit\n",
      "Processing Record 6 of Set 4 : ixtapa\n",
      "Processing Record 7 of Set 4 : georgetown\n",
      "Processing Record 8 of Set 4 : meiktila\n",
      "Processing Record 9 of Set 4 : tosya\n",
      "City not found. Skipping...\n",
      "Processing Record 10 of Set 4 : beringovskiy\n",
      "Processing Record 11 of Set 4 : chokurdakh\n",
      "Processing Record 12 of Set 4 : nokaneng\n",
      "City not found. Skipping...\n",
      "Processing Record 13 of Set 4 : finnsnes\n",
      "Processing Record 14 of Set 4 : vilyuysk\n",
      "Processing Record 15 of Set 4 : victoria\n",
      "Processing Record 16 of Set 4 : sambava\n",
      "Processing Record 17 of Set 4 : kutum\n",
      "Processing Record 18 of Set 4 : leningradskiy\n",
      "City not found. Skipping...\n",
      "Processing Record 19 of Set 4 : puerto ayora\n",
      "Processing Record 20 of Set 4 : manggar\n",
      "Processing Record 21 of Set 4 : gediz\n",
      "Processing Record 22 of Set 4 : maniitsoq\n",
      "Processing Record 23 of Set 4 : laguna\n",
      "Processing Record 24 of Set 4 : vostok\n",
      "Processing Record 25 of Set 4 : mount isa\n",
      "Processing Record 26 of Set 4 : mezen\n",
      "Processing Record 27 of Set 4 : stepnyak\n",
      "City not found. Skipping...\n",
      "Processing Record 28 of Set 4 : neuquen\n",
      "Processing Record 29 of Set 4 : jamame\n",
      "Processing Record 30 of Set 4 : christchurch\n",
      "Processing Record 31 of Set 4 : comodoro rivadavia\n",
      "Processing Record 32 of Set 4 : sao miguel do araguaia\n",
      "Processing Record 33 of Set 4 : largo\n"
     ]
    },
    {
     "name": "stdout",
     "output_type": "stream",
     "text": [
      "Processing Record 34 of Set 4 : kahului\n",
      "Processing Record 35 of Set 4 : pacific grove\n",
      "Processing Record 36 of Set 4 : krasnaya gorbatka\n",
      "Processing Record 37 of Set 4 : cap-aux-meules\n",
      "Processing Record 38 of Set 4 : moanda\n",
      "Processing Record 39 of Set 4 : aguimes\n",
      "Processing Record 40 of Set 4 : margate\n",
      "Processing Record 41 of Set 4 : hofn\n",
      "Processing Record 42 of Set 4 : porbandar\n",
      "City not found. Skipping...\n",
      "Processing Record 43 of Set 4 : butaritari\n",
      "City not found. Skipping...\n",
      "Processing Record 44 of Set 4 : mackay\n",
      "Processing Record 45 of Set 4 : ugoofaaru\n",
      "Processing Record 46 of Set 4 : pestravka\n",
      "Processing Record 47 of Set 4 : concarneau\n",
      "Processing Record 48 of Set 4 : faya\n",
      "Processing Record 49 of Set 4 : andenes\n",
      "Processing Record 50 of Set 4 : iqaluit\n",
      "Processing Record 0 of Set 5 : inirida\n",
      "Processing Record 1 of Set 5 : luderitz\n",
      "Processing Record 2 of Set 5 : petropavlovsk-kamchatskiy\n",
      "Processing Record 3 of Set 5 : souillac\n",
      "Processing Record 4 of Set 5 : khipro\n",
      "Processing Record 5 of Set 5 : hamburg\n",
      "Processing Record 6 of Set 5 : maldonado\n",
      "Processing Record 7 of Set 5 : castro\n",
      "Processing Record 8 of Set 5 : te anau\n",
      "Processing Record 9 of Set 5 : russell\n",
      "Processing Record 10 of Set 5 : san luis\n",
      "Processing Record 11 of Set 5 : dwarka\n",
      "Processing Record 12 of Set 5 : orlik\n",
      "Processing Record 13 of Set 5 : vanavara\n",
      "City not found. Skipping...\n",
      "Processing Record 14 of Set 5 : isparta\n",
      "Processing Record 15 of Set 5 : port hardy\n",
      "City not found. Skipping...\n",
      "Processing Record 16 of Set 5 : noumea\n",
      "Processing Record 17 of Set 5 : port blair\n",
      "Processing Record 18 of Set 5 : marsh harbour\n",
      "Processing Record 19 of Set 5 : ponta do sol\n",
      "Processing Record 20 of Set 5 : linxia\n",
      "Processing Record 21 of Set 5 : zyryanka\n",
      "Processing Record 22 of Set 5 : meaford\n",
      "Processing Record 23 of Set 5 : churapcha\n",
      "Processing Record 24 of Set 5 : provideniya\n",
      "Processing Record 25 of Set 5 : tual\n",
      "Processing Record 26 of Set 5 : urucara\n",
      "Processing Record 27 of Set 5 : sadiqabad\n",
      "Processing Record 28 of Set 5 : kloulklubed\n",
      "Processing Record 29 of Set 5 : wajid\n",
      "Processing Record 30 of Set 5 : port lincoln\n",
      "Processing Record 31 of Set 5 : itoman\n",
      "Processing Record 32 of Set 5 : qaqortoq\n",
      "Processing Record 33 of Set 5 : bowen\n",
      "Processing Record 34 of Set 5 : atar\n",
      "City not found. Skipping...\n",
      "Processing Record 35 of Set 5 : bengkulu\n",
      "Processing Record 36 of Set 5 : umkomaas\n",
      "Processing Record 37 of Set 5 : yar-sale\n",
      "Processing Record 38 of Set 5 : hambantota\n",
      "Processing Record 39 of Set 5 : mekhe\n",
      "Processing Record 40 of Set 5 : arman\n",
      "Processing Record 41 of Set 5 : qui nhon\n",
      "City not found. Skipping...\n",
      "City not found. Skipping...\n",
      "Processing Record 42 of Set 5 : bilma\n",
      "Processing Record 43 of Set 5 : boa vista\n",
      "Processing Record 44 of Set 5 : homer\n",
      "Processing Record 45 of Set 5 : fare\n",
      "City not found. Skipping...\n",
      "Processing Record 46 of Set 5 : belaya gora\n",
      "Processing Record 47 of Set 5 : tiksi\n",
      "City not found. Skipping...\n",
      "Processing Record 48 of Set 5 : siilinjarvi\n",
      "Processing Record 49 of Set 5 : saginaw\n",
      "Processing Record 50 of Set 5 : mastic beach\n",
      "Processing Record 0 of Set 6 : seymour\n",
      "Processing Record 1 of Set 6 : mehamn\n",
      "Processing Record 2 of Set 6 : severo-kurilsk\n",
      "Processing Record 3 of Set 6 : rusera\n",
      "Processing Record 4 of Set 6 : rundu\n",
      "Processing Record 5 of Set 6 : khandyga\n",
      "Processing Record 6 of Set 6 : betsiamites\n",
      "Processing Record 7 of Set 6 : cienfuegos\n",
      "City not found. Skipping...\n",
      "Processing Record 8 of Set 6 : hirara\n",
      "Processing Record 9 of Set 6 : dingle\n",
      "Processing Record 10 of Set 6 : shimoda\n",
      "Processing Record 11 of Set 6 : port hawkesbury\n",
      "Processing Record 12 of Set 6 : byron bay\n",
      "City not found. Skipping...\n",
      "Processing Record 13 of Set 6 : nuevitas\n",
      "Processing Record 14 of Set 6 : sitka\n",
      "Processing Record 15 of Set 6 : bogacs\n",
      "Processing Record 16 of Set 6 : pangnirtung\n",
      "Processing Record 17 of Set 6 : tiznit\n",
      "Processing Record 18 of Set 6 : egvekinot\n",
      "City not found. Skipping...\n",
      "Processing Record 19 of Set 6 : srivardhan\n",
      "Processing Record 20 of Set 6 : ossora\n",
      "Processing Record 21 of Set 6 : taunggyi\n",
      "Processing Record 22 of Set 6 : lichinga\n",
      "Processing Record 23 of Set 6 : broken hill\n",
      "Processing Record 24 of Set 6 : chuy\n",
      "Processing Record 25 of Set 6 : abnub\n",
      "Processing Record 26 of Set 6 : berlevag\n",
      "Processing Record 27 of Set 6 : belyy yar\n",
      "Processing Record 28 of Set 6 : saquena\n",
      "Processing Record 29 of Set 6 : isangel\n",
      "Processing Record 30 of Set 6 : muisne\n",
      "Processing Record 31 of Set 6 : izumo\n",
      "Processing Record 32 of Set 6 : los llanos de aridane\n",
      "Processing Record 33 of Set 6 : dongying\n",
      "Processing Record 34 of Set 6 : guatire\n",
      "Processing Record 35 of Set 6 : mecca\n",
      "Processing Record 36 of Set 6 : nome\n",
      "Processing Record 37 of Set 6 : mahebourg\n",
      "Processing Record 38 of Set 6 : poplar bluff\n",
      "City not found. Skipping...\n",
      "Processing Record 39 of Set 6 : san cristobal\n",
      "Processing Record 40 of Set 6 : lyuban\n",
      "Processing Record 41 of Set 6 : olga\n",
      "City not found. Skipping...\n",
      "Processing Record 42 of Set 6 : flinders\n",
      "Processing Record 43 of Set 6 : goderich\n",
      "Processing Record 44 of Set 6 : paragominas\n",
      "Processing Record 45 of Set 6 : dhidhdhoo\n",
      "Processing Record 46 of Set 6 : mushie\n",
      "Processing Record 47 of Set 6 : esperance\n",
      "Processing Record 48 of Set 6 : laramie\n",
      "Processing Record 49 of Set 6 : eureka\n",
      "Processing Record 50 of Set 6 : juneau\n",
      "City not found. Skipping...\n",
      "Processing Record 0 of Set 7 : chaihe\n",
      "Processing Record 1 of Set 7 : srednekolymsk\n",
      "Processing Record 2 of Set 7 : troitsko-pechorsk\n",
      "Processing Record 3 of Set 7 : erenhot\n",
      "Processing Record 4 of Set 7 : kaitangata\n",
      "Processing Record 5 of Set 7 : zhanaozen\n",
      "Processing Record 6 of Set 7 : loei\n",
      "Processing Record 7 of Set 7 : amazar\n",
      "City not found. Skipping...\n",
      "Processing Record 8 of Set 7 : solnechnyy\n",
      "City not found. Skipping...\n",
      "Processing Record 9 of Set 7 : todos santos\n",
      "Processing Record 10 of Set 7 : shimanovsk\n",
      "Processing Record 11 of Set 7 : iracoubo\n",
      "Processing Record 12 of Set 7 : yulara\n",
      "Processing Record 13 of Set 7 : mayor pablo lagerenza\n",
      "Processing Record 14 of Set 7 : ambon\n",
      "Processing Record 15 of Set 7 : jiupu\n",
      "Processing Record 16 of Set 7 : upernavik\n",
      "Processing Record 17 of Set 7 : anupgarh\n",
      "Processing Record 18 of Set 7 : lavrentiya\n",
      "Processing Record 19 of Set 7 : peace river\n",
      "City not found. Skipping...\n",
      "Processing Record 20 of Set 7 : shelburne\n",
      "Processing Record 21 of Set 7 : benghazi\n",
      "Processing Record 22 of Set 7 : kurchum\n",
      "Processing Record 23 of Set 7 : manzanillo\n",
      "Processing Record 24 of Set 7 : pavlodar\n",
      "Processing Record 25 of Set 7 : boston\n",
      "Processing Record 26 of Set 7 : buraydah\n",
      "Processing Record 27 of Set 7 : bagdarin\n",
      "City not found. Skipping...\n",
      "Processing Record 28 of Set 7 : grindavik\n",
      "Processing Record 29 of Set 7 : palmer\n",
      "Processing Record 30 of Set 7 : marawi\n",
      "Processing Record 31 of Set 7 : takoradi\n",
      "City not found. Skipping...\n",
      "Processing Record 32 of Set 7 : aswan\n",
      "Processing Record 33 of Set 7 : kaeo\n",
      "Processing Record 34 of Set 7 : cherskiy\n",
      "Processing Record 35 of Set 7 : belle fourche\n",
      "Processing Record 36 of Set 7 : ust-kulom\n",
      "Processing Record 37 of Set 7 : vysokogornyy\n",
      "Processing Record 38 of Set 7 : kawalu\n",
      "Processing Record 39 of Set 7 : carnarvon\n",
      "Processing Record 40 of Set 7 : santa maria\n",
      "Processing Record 41 of Set 7 : rudnichnyy\n",
      "Processing Record 42 of Set 7 : kanigoro\n",
      "Processing Record 43 of Set 7 : sao gabriel da cachoeira\n",
      "Processing Record 44 of Set 7 : surovatikha\n",
      "Processing Record 45 of Set 7 : coquimbo\n",
      "Processing Record 46 of Set 7 : kokopo\n",
      "Processing Record 47 of Set 7 : santa catarina\n",
      "Processing Record 48 of Set 7 : marstal\n",
      "Processing Record 49 of Set 7 : beloha\n",
      "Processing Record 50 of Set 7 : batagay-alyta\n",
      "Processing Record 0 of Set 8 : colorado springs\n",
      "City not found. Skipping...\n",
      "Processing Record 1 of Set 8 : ler\n",
      "Processing Record 2 of Set 8 : carutapera\n",
      "Processing Record 3 of Set 8 : norman wells\n",
      "Processing Record 4 of Set 8 : benton\n",
      "Processing Record 5 of Set 8 : namatanai\n",
      "Processing Record 6 of Set 8 : lasa\n",
      "Processing Record 7 of Set 8 : ishigaki\n",
      "Processing Record 8 of Set 8 : selfoss\n",
      "Processing Record 9 of Set 8 : turukhansk\n",
      "Processing Record 10 of Set 8 : tessalit\n",
      "City not found. Skipping...\n",
      "City not found. Skipping...\n",
      "Processing Record 11 of Set 8 : neiafu\n",
      "Processing Record 12 of Set 8 : rehoboth\n",
      "Processing Record 13 of Set 8 : ketchikan\n"
     ]
    },
    {
     "name": "stdout",
     "output_type": "stream",
     "text": [
      "Processing Record 14 of Set 8 : eenhana\n",
      "City not found. Skipping...\n",
      "Processing Record 15 of Set 8 : severo-yeniseyskiy\n",
      "Processing Record 16 of Set 8 : westport\n",
      "Processing Record 17 of Set 8 : chara\n",
      "Processing Record 18 of Set 8 : skowhegan\n",
      "Processing Record 19 of Set 8 : nadym\n",
      "Processing Record 20 of Set 8 : malabo\n",
      "Processing Record 21 of Set 8 : sheridan\n",
      "Processing Record 22 of Set 8 : namibe\n",
      "Processing Record 23 of Set 8 : ducheng\n",
      "Processing Record 24 of Set 8 : oxapampa\n",
      "Processing Record 25 of Set 8 : hamilton\n",
      "Processing Record 26 of Set 8 : otorohanga\n",
      "Processing Record 27 of Set 8 : burnie\n",
      "Processing Record 28 of Set 8 : komsomolskiy\n",
      "Processing Record 29 of Set 8 : tubuala\n",
      "Processing Record 30 of Set 8 : suleja\n",
      "Processing Record 31 of Set 8 : matamoros\n",
      "Processing Record 32 of Set 8 : fortuna\n",
      "Processing Record 33 of Set 8 : wanning\n",
      "Processing Record 34 of Set 8 : champerico\n",
      "Processing Record 35 of Set 8 : amahai\n",
      "Processing Record 36 of Set 8 : tashara\n",
      "Processing Record 37 of Set 8 : tocopilla\n",
      "Processing Record 38 of Set 8 : tehri\n",
      "Processing Record 39 of Set 8 : haines junction\n",
      "Processing Record 40 of Set 8 : labuan\n",
      "Processing Record 41 of Set 8 : astoria\n",
      "Processing Record 42 of Set 8 : itarema\n",
      "Processing Record 43 of Set 8 : gouyave\n",
      "Processing Record 44 of Set 8 : moose factory\n",
      "Processing Record 45 of Set 8 : kolokani\n",
      "Processing Record 46 of Set 8 : deputatskiy\n",
      "Processing Record 47 of Set 8 : kang\n",
      "Processing Record 48 of Set 8 : slatina-timis\n",
      "Processing Record 49 of Set 8 : songjianghe\n",
      "Processing Record 50 of Set 8 : tonantins\n",
      "Processing Record 0 of Set 9 : bay roberts\n",
      "Processing Record 1 of Set 9 : ouango\n",
      "City not found. Skipping...\n",
      "Processing Record 2 of Set 9 : san felipe\n",
      "Processing Record 3 of Set 9 : sao joao dos patos\n",
      "Processing Record 4 of Set 9 : praia\n",
      "Processing Record 5 of Set 9 : nizhniy kuranakh\n",
      "Processing Record 6 of Set 9 : portobelo\n",
      "Processing Record 7 of Set 9 : satun\n",
      "Processing Record 8 of Set 9 : pevek\n",
      "Processing Record 9 of Set 9 : asau\n",
      "Processing Record 10 of Set 9 : puerto narino\n",
      "Processing Record 11 of Set 9 : kenai\n",
      "Processing Record 12 of Set 9 : chunskiy\n",
      "Processing Record 13 of Set 9 : shenzhen\n",
      "Processing Record 14 of Set 9 : faanui\n",
      "Processing Record 15 of Set 9 : erdemli\n",
      "Processing Record 16 of Set 9 : sistranda\n",
      "Processing Record 17 of Set 9 : san jeronimo\n",
      "Processing Record 18 of Set 9 : mount gambier\n",
      "Processing Record 19 of Set 9 : kananga\n",
      "Processing Record 20 of Set 9 : west wendover\n",
      "Processing Record 21 of Set 9 : paamiut\n",
      "Processing Record 22 of Set 9 : bontang\n",
      "Processing Record 23 of Set 9 : bodden town\n",
      "Processing Record 24 of Set 9 : morales\n",
      "Processing Record 25 of Set 9 : lufkin\n",
      "Processing Record 26 of Set 9 : altamira\n",
      "Processing Record 27 of Set 9 : eyemouth\n",
      "Processing Record 28 of Set 9 : ferkessedougou\n",
      "Processing Record 29 of Set 9 : yambio\n",
      "Processing Record 30 of Set 9 : mayo\n",
      "Processing Record 31 of Set 9 : karratha\n",
      "Processing Record 32 of Set 9 : nicoya\n",
      "Processing Record 33 of Set 9 : santa isabel\n",
      "Processing Record 34 of Set 9 : caravelas\n",
      "Processing Record 35 of Set 9 : mwense\n",
      "Processing Record 36 of Set 9 : balkanabat\n",
      "Processing Record 37 of Set 9 : bathsheba\n",
      "Processing Record 38 of Set 9 : talnakh\n",
      "Processing Record 39 of Set 9 : paracuru\n",
      "Processing Record 40 of Set 9 : altay\n",
      "City not found. Skipping...\n",
      "Processing Record 41 of Set 9 : maarianhamina\n",
      "Processing Record 42 of Set 9 : olovyannaya\n",
      "Processing Record 43 of Set 9 : sumenep\n",
      "City not found. Skipping...\n",
      "Processing Record 44 of Set 9 : rumonge\n",
      "Processing Record 45 of Set 9 : panguna\n",
      "City not found. Skipping...\n",
      "Processing Record 46 of Set 9 : bolobo\n",
      "Processing Record 47 of Set 9 : road town\n",
      "Processing Record 48 of Set 9 : kasongo\n",
      "Processing Record 49 of Set 9 : launceston\n",
      "Processing Record 50 of Set 9 : staraya poltavka\n",
      "Processing Record 0 of Set 10 : mitla\n",
      "Processing Record 1 of Set 10 : broome\n",
      "Processing Record 2 of Set 10 : binga\n",
      "City not found. Skipping...\n",
      "Processing Record 3 of Set 10 : ucluelet\n",
      "City not found. Skipping...\n",
      "Processing Record 4 of Set 10 : cabo san lucas\n",
      "Processing Record 5 of Set 10 : lubartow\n",
      "City not found. Skipping...\n",
      "Processing Record 6 of Set 10 : rawson\n",
      "Processing Record 7 of Set 10 : tadine\n",
      "Processing Record 8 of Set 10 : stokmarknes\n",
      "Processing Record 9 of Set 10 : jalingo\n",
      "City not found. Skipping...\n",
      "Processing Record 10 of Set 10 : barra patuca\n",
      "Processing Record 11 of Set 10 : ostersund\n",
      "Processing Record 12 of Set 10 : gravelbourg\n",
      "Processing Record 13 of Set 10 : bandarbeyla\n",
      "Processing Record 14 of Set 10 : hamza\n",
      "Processing Record 15 of Set 10 : tomatlan\n",
      "Processing Record 16 of Set 10 : skjervoy\n",
      "Processing Record 17 of Set 10 : ngunguru\n",
      "Processing Record 18 of Set 10 : kosonsoy\n",
      "Processing Record 19 of Set 10 : auch\n",
      "Processing Record 20 of Set 10 : seoul\n",
      "Processing Record 21 of Set 10 : mandalgovi\n",
      "Processing Record 22 of Set 10 : manaure\n",
      "Processing Record 23 of Set 10 : borba\n",
      "Processing Record 24 of Set 10 : manzhouli\n",
      "Processing Record 25 of Set 10 : saint-joseph\n",
      "Processing Record 26 of Set 10 : sola\n",
      "Processing Record 27 of Set 10 : poltavka\n",
      "Processing Record 28 of Set 10 : rocha\n",
      "Processing Record 29 of Set 10 : berbera\n",
      "Processing Record 30 of Set 10 : samarai\n",
      "Processing Record 31 of Set 10 : khuzdar\n",
      "Processing Record 32 of Set 10 : sept-iles\n",
      "Processing Record 33 of Set 10 : plettenberg bay\n",
      "Processing Record 34 of Set 10 : yoichi\n",
      "Processing Record 35 of Set 10 : ovalle\n",
      "Processing Record 36 of Set 10 : bellavista\n",
      "Processing Record 37 of Set 10 : puerto escondido\n",
      "City not found. Skipping...\n",
      "Processing Record 38 of Set 10 : micheweni\n",
      "City not found. Skipping...\n",
      "Processing Record 39 of Set 10 : ohara\n",
      "City not found. Skipping...\n",
      "Processing Record 40 of Set 10 : guilin\n",
      "Processing Record 41 of Set 10 : cassilandia\n",
      "Processing Record 42 of Set 10 : kerava\n",
      "Processing Record 43 of Set 10 : port arthur\n",
      "Processing Record 44 of Set 10 : canico\n",
      "Processing Record 45 of Set 10 : coruripe\n",
      "Processing Record 46 of Set 10 : jacareacanga\n",
      "Processing Record 47 of Set 10 : susanville\n",
      "Processing Record 48 of Set 10 : lukang\n",
      "City not found. Skipping...\n",
      "Processing Record 49 of Set 10 : sioux lookout\n",
      "Processing Record 50 of Set 10 : mocuba\n",
      "Processing Record 0 of Set 11 : barranca\n",
      "Processing Record 1 of Set 11 : sheltozero\n",
      "Processing Record 2 of Set 11 : cairns\n",
      "Processing Record 3 of Set 11 : portland\n",
      "Processing Record 4 of Set 11 : sisimiut\n",
      "Processing Record 5 of Set 11 : miles city\n",
      "Processing Record 6 of Set 11 : kholm-zhirkovskiy\n",
      "City not found. Skipping...\n",
      "City not found. Skipping...\n",
      "Processing Record 7 of Set 11 : san ramon\n",
      "Processing Record 8 of Set 11 : port augusta\n",
      "Processing Record 9 of Set 11 : kapuskasing\n",
      "Processing Record 10 of Set 11 : yelets\n",
      "Processing Record 11 of Set 11 : havoysund\n",
      "Processing Record 12 of Set 11 : sibolga\n",
      "Processing Record 13 of Set 11 : lesnoy\n",
      "Processing Record 14 of Set 11 : aiquile\n",
      "Processing Record 15 of Set 11 : festus\n",
      "Processing Record 16 of Set 11 : vallenar\n",
      "Processing Record 17 of Set 11 : norden\n",
      "Processing Record 18 of Set 11 : evensk\n",
      "Processing Record 19 of Set 11 : sabang\n",
      "Processing Record 20 of Set 11 : podor\n",
      "Processing Record 21 of Set 11 : virtsu\n",
      "Processing Record 22 of Set 11 : port hedland\n",
      "Processing Record 23 of Set 11 : sur\n",
      "Processing Record 24 of Set 11 : cockburn town\n",
      "Processing Record 25 of Set 11 : kungurtug\n",
      "City not found. Skipping...\n",
      "Processing Record 26 of Set 11 : athabasca\n",
      "Processing Record 27 of Set 11 : alappuzha\n",
      "Processing Record 28 of Set 11 : lompoc\n",
      "Processing Record 29 of Set 11 : zverinogolovskoye\n",
      "Processing Record 30 of Set 11 : necochea\n",
      "Processing Record 31 of Set 11 : sarkand\n",
      "Processing Record 32 of Set 11 : mwene-ditu\n",
      "Processing Record 33 of Set 11 : araouane\n",
      "City not found. Skipping...\n",
      "Processing Record 34 of Set 11 : dubbo\n",
      "Processing Record 35 of Set 11 : nynashamn\n",
      "Processing Record 36 of Set 11 : arlit\n",
      "Processing Record 37 of Set 11 : sakaiminato\n",
      "Processing Record 38 of Set 11 : kyra\n",
      "Processing Record 39 of Set 11 : samoded\n",
      "Processing Record 40 of Set 11 : svetlogorsk\n",
      "Processing Record 41 of Set 11 : bulungu\n",
      "Processing Record 42 of Set 11 : mosquera\n",
      "Processing Record 43 of Set 11 : cuxhaven\n",
      "Processing Record 44 of Set 11 : mercedes\n",
      "Processing Record 45 of Set 11 : abonnema\n",
      "Processing Record 46 of Set 11 : cacule\n"
     ]
    },
    {
     "name": "stdout",
     "output_type": "stream",
     "text": [
      "Processing Record 47 of Set 11 : agadez\n",
      "Processing Record 48 of Set 11 : abalak\n",
      "Processing Record 49 of Set 11 : ayorou\n",
      "Processing Record 50 of Set 11 : batsfjord\n",
      "Processing Record 0 of Set 12 : boguchany\n",
      "City not found. Skipping...\n",
      "Processing Record 1 of Set 12 : pandan\n",
      "Processing Record 2 of Set 12 : tabas\n",
      "Processing Record 3 of Set 12 : la paz\n",
      "Processing Record 4 of Set 12 : kupang\n",
      "Processing Record 5 of Set 12 : taltal\n",
      "-----------------------------\n",
      "Data Retrieval Complete\n",
      "-----------------------------\n"
     ]
    }
   ],
   "source": [
    "print(\"Beginning Data Retrieval \")\n",
    "print(\"-----------------------------\")\n",
    "\n",
    "\n",
    "# For each city name in cities list, do below things...\n",
    "for index, city in enumerate(cities, start = 1):\n",
    "    try:\n",
    "        response = requests.get(query_url + city).json()\n",
    "        city_name_list.append(response[\"name\"])\n",
    "        cloudiness_list.append(response[\"clouds\"][\"all\"])\n",
    "        country_list.append(response[\"sys\"][\"country\"])\n",
    "        date_list.append(response[\"dt\"])\n",
    "        humidity_list.append(response[\"main\"][\"humidity\"])\n",
    "        lat_list.append(response[\"coord\"][\"lat\"])\n",
    "        lng_list.append(response[\"coord\"][\"lon\"])\n",
    "        max_temp_list.append(response['main']['temp_max'])\n",
    "        wind_speed_list.append(response[\"wind\"][\"speed\"])\n",
    "        if index_counter > 49:\n",
    "            index_counter = 0\n",
    "            set_counter = set_counter + 1\n",
    "    \n",
    "        else:\n",
    "            index_counter = index_counter + 1\n",
    "            \n",
    "        print(f\"Processing Record {index_counter} of Set {set_counter} : {city}\") \n",
    "  \n",
    "    except(KeyError, IndexError):\n",
    "        print(\"City not found. Skipping...\")\n",
    "\n",
    "print(\"-----------------------------\")\n",
    "print(\"Data Retrieval Complete\")\n",
    "print(\"-----------------------------\")"
   ]
  },
  {
   "cell_type": "markdown",
   "metadata": {},
   "source": [
    "### Convert Raw Data to DataFrame\n",
    "* Export the city data into a .csv.\n",
    "* Display the DataFrame"
   ]
  },
  {
   "cell_type": "code",
   "execution_count": 6,
   "metadata": {},
   "outputs": [
    {
     "data": {
      "text/html": [
       "<div>\n",
       "<style scoped>\n",
       "    .dataframe tbody tr th:only-of-type {\n",
       "        vertical-align: middle;\n",
       "    }\n",
       "\n",
       "    .dataframe tbody tr th {\n",
       "        vertical-align: top;\n",
       "    }\n",
       "\n",
       "    .dataframe thead th {\n",
       "        text-align: right;\n",
       "    }\n",
       "</style>\n",
       "<table border=\"1\" class=\"dataframe\">\n",
       "  <thead>\n",
       "    <tr style=\"text-align: right;\">\n",
       "      <th></th>\n",
       "      <th>City</th>\n",
       "      <th>Lat</th>\n",
       "      <th>Lng</th>\n",
       "      <th>Max Temp</th>\n",
       "      <th>Humidity</th>\n",
       "      <th>Cloudiness</th>\n",
       "      <th>Wind Speed</th>\n",
       "      <th>Country</th>\n",
       "      <th>Date</th>\n",
       "    </tr>\n",
       "  </thead>\n",
       "  <tbody>\n",
       "    <tr>\n",
       "      <th>0</th>\n",
       "      <td>Saskylakh</td>\n",
       "      <td>71.9167</td>\n",
       "      <td>114.0833</td>\n",
       "      <td>34.38</td>\n",
       "      <td>97</td>\n",
       "      <td>100</td>\n",
       "      <td>19.57</td>\n",
       "      <td>RU</td>\n",
       "      <td>1631812804</td>\n",
       "    </tr>\n",
       "    <tr>\n",
       "      <th>1</th>\n",
       "      <td>Hithadhoo</td>\n",
       "      <td>-0.6000</td>\n",
       "      <td>73.0833</td>\n",
       "      <td>83.91</td>\n",
       "      <td>70</td>\n",
       "      <td>100</td>\n",
       "      <td>9.78</td>\n",
       "      <td>MV</td>\n",
       "      <td>1631812805</td>\n",
       "    </tr>\n",
       "    <tr>\n",
       "      <th>2</th>\n",
       "      <td>Moscow</td>\n",
       "      <td>55.7522</td>\n",
       "      <td>37.6156</td>\n",
       "      <td>46.83</td>\n",
       "      <td>67</td>\n",
       "      <td>100</td>\n",
       "      <td>6.93</td>\n",
       "      <td>RU</td>\n",
       "      <td>1631812729</td>\n",
       "    </tr>\n",
       "    <tr>\n",
       "      <th>3</th>\n",
       "      <td>Rikitea</td>\n",
       "      <td>-23.1203</td>\n",
       "      <td>-134.9692</td>\n",
       "      <td>73.17</td>\n",
       "      <td>77</td>\n",
       "      <td>7</td>\n",
       "      <td>14.70</td>\n",
       "      <td>PF</td>\n",
       "      <td>1631812807</td>\n",
       "    </tr>\n",
       "    <tr>\n",
       "      <th>4</th>\n",
       "      <td>Bluff</td>\n",
       "      <td>-46.6000</td>\n",
       "      <td>168.3333</td>\n",
       "      <td>36.81</td>\n",
       "      <td>73</td>\n",
       "      <td>70</td>\n",
       "      <td>11.95</td>\n",
       "      <td>NZ</td>\n",
       "      <td>1631812807</td>\n",
       "    </tr>\n",
       "  </tbody>\n",
       "</table>\n",
       "</div>"
      ],
      "text/plain": [
       "        City      Lat       Lng  Max Temp  Humidity  Cloudiness  Wind Speed  \\\n",
       "0  Saskylakh  71.9167  114.0833     34.38        97         100       19.57   \n",
       "1  Hithadhoo  -0.6000   73.0833     83.91        70         100        9.78   \n",
       "2     Moscow  55.7522   37.6156     46.83        67         100        6.93   \n",
       "3    Rikitea -23.1203 -134.9692     73.17        77           7       14.70   \n",
       "4      Bluff -46.6000  168.3333     36.81        73          70       11.95   \n",
       "\n",
       "  Country        Date  \n",
       "0      RU  1631812804  \n",
       "1      MV  1631812805  \n",
       "2      RU  1631812729  \n",
       "3      PF  1631812807  \n",
       "4      NZ  1631812807  "
      ]
     },
     "execution_count": 6,
     "metadata": {},
     "output_type": "execute_result"
    }
   ],
   "source": [
    "#Create Dataframe\n",
    "city_data = pd.DataFrame({ \n",
    "                \"City\" : city_name_list,\n",
    "                \"Lat\" : lat_list,\n",
    "                \"Lng\" : lng_list,\n",
    "                \"Max Temp\" : max_temp_list,\n",
    "                \"Humidity\" : humidity_list,\n",
    "                \"Cloudiness\" : cloudiness_list,\n",
    "                \"Wind Speed\" : wind_speed_list,\n",
    "                \"Country\" : country_list,\n",
    "                \"Date\" : date_list,\n",
    "            \n",
    "})\n",
    "city_data.head()"
   ]
  },
  {
   "cell_type": "code",
   "execution_count": 7,
   "metadata": {},
   "outputs": [],
   "source": [
    "# Export csv to Output foler\n",
    "city_data.to_csv(\"output_data/cities_weather.csv\")"
   ]
  },
  {
   "cell_type": "markdown",
   "metadata": {},
   "source": [
    "## Inspect the data and remove the cities where the humidity > 100%.\n",
    "----\n",
    "Skip this step if there are no cities that have humidity > 100%. "
   ]
  },
  {
   "cell_type": "code",
   "execution_count": 8,
   "metadata": {},
   "outputs": [
    {
     "data": {
      "text/html": [
       "<div>\n",
       "<style scoped>\n",
       "    .dataframe tbody tr th:only-of-type {\n",
       "        vertical-align: middle;\n",
       "    }\n",
       "\n",
       "    .dataframe tbody tr th {\n",
       "        vertical-align: top;\n",
       "    }\n",
       "\n",
       "    .dataframe thead th {\n",
       "        text-align: right;\n",
       "    }\n",
       "</style>\n",
       "<table border=\"1\" class=\"dataframe\">\n",
       "  <thead>\n",
       "    <tr style=\"text-align: right;\">\n",
       "      <th></th>\n",
       "      <th>City</th>\n",
       "      <th>Lat</th>\n",
       "      <th>Lng</th>\n",
       "      <th>Max Temp</th>\n",
       "      <th>Humidity</th>\n",
       "      <th>Cloudiness</th>\n",
       "      <th>Wind Speed</th>\n",
       "      <th>Country</th>\n",
       "      <th>Date</th>\n",
       "    </tr>\n",
       "  </thead>\n",
       "  <tbody>\n",
       "    <tr>\n",
       "      <th>0</th>\n",
       "      <td>Saskylakh</td>\n",
       "      <td>71.9167</td>\n",
       "      <td>114.0833</td>\n",
       "      <td>34.38</td>\n",
       "      <td>97</td>\n",
       "      <td>100</td>\n",
       "      <td>19.57</td>\n",
       "      <td>RU</td>\n",
       "      <td>1631812804</td>\n",
       "    </tr>\n",
       "    <tr>\n",
       "      <th>1</th>\n",
       "      <td>Hithadhoo</td>\n",
       "      <td>-0.6000</td>\n",
       "      <td>73.0833</td>\n",
       "      <td>83.91</td>\n",
       "      <td>70</td>\n",
       "      <td>100</td>\n",
       "      <td>9.78</td>\n",
       "      <td>MV</td>\n",
       "      <td>1631812805</td>\n",
       "    </tr>\n",
       "    <tr>\n",
       "      <th>2</th>\n",
       "      <td>Moscow</td>\n",
       "      <td>55.7522</td>\n",
       "      <td>37.6156</td>\n",
       "      <td>46.83</td>\n",
       "      <td>67</td>\n",
       "      <td>100</td>\n",
       "      <td>6.93</td>\n",
       "      <td>RU</td>\n",
       "      <td>1631812729</td>\n",
       "    </tr>\n",
       "    <tr>\n",
       "      <th>3</th>\n",
       "      <td>Rikitea</td>\n",
       "      <td>-23.1203</td>\n",
       "      <td>-134.9692</td>\n",
       "      <td>73.17</td>\n",
       "      <td>77</td>\n",
       "      <td>7</td>\n",
       "      <td>14.70</td>\n",
       "      <td>PF</td>\n",
       "      <td>1631812807</td>\n",
       "    </tr>\n",
       "    <tr>\n",
       "      <th>4</th>\n",
       "      <td>Bluff</td>\n",
       "      <td>-46.6000</td>\n",
       "      <td>168.3333</td>\n",
       "      <td>36.81</td>\n",
       "      <td>73</td>\n",
       "      <td>70</td>\n",
       "      <td>11.95</td>\n",
       "      <td>NZ</td>\n",
       "      <td>1631812807</td>\n",
       "    </tr>\n",
       "  </tbody>\n",
       "</table>\n",
       "</div>"
      ],
      "text/plain": [
       "        City      Lat       Lng  Max Temp  Humidity  Cloudiness  Wind Speed  \\\n",
       "0  Saskylakh  71.9167  114.0833     34.38        97         100       19.57   \n",
       "1  Hithadhoo  -0.6000   73.0833     83.91        70         100        9.78   \n",
       "2     Moscow  55.7522   37.6156     46.83        67         100        6.93   \n",
       "3    Rikitea -23.1203 -134.9692     73.17        77           7       14.70   \n",
       "4      Bluff -46.6000  168.3333     36.81        73          70       11.95   \n",
       "\n",
       "  Country        Date  \n",
       "0      RU  1631812804  \n",
       "1      MV  1631812805  \n",
       "2      RU  1631812729  \n",
       "3      PF  1631812807  \n",
       "4      NZ  1631812807  "
      ]
     },
     "execution_count": 8,
     "metadata": {},
     "output_type": "execute_result"
    }
   ],
   "source": [
    "# Exclude cities with humidity over 100%\n",
    "\n",
    "humidity_over100 = city_data['Humidity']>100\n",
    "city_data_clean = city_data[-humidity_over100]\n",
    "city_data_withover100 = city_data[humidity_over100]\n",
    "\n",
    "city_data_clean.head()\n",
    "\n"
   ]
  },
  {
   "cell_type": "code",
   "execution_count": 9,
   "metadata": {},
   "outputs": [
    {
     "data": {
      "text/plain": [
       "count    566.000000\n",
       "mean      67.477032\n",
       "std       22.808677\n",
       "min        2.000000\n",
       "25%       56.000000\n",
       "50%       73.000000\n",
       "75%       84.750000\n",
       "max      100.000000\n",
       "Name: Humidity, dtype: float64"
      ]
     },
     "execution_count": 9,
     "metadata": {},
     "output_type": "execute_result"
    }
   ],
   "source": [
    "city_data['Humidity'].describe()"
   ]
  },
  {
   "cell_type": "markdown",
   "metadata": {},
   "source": [
    "### Max humidity value in the original Dataset is 100. so conclusion is, No cities were found with Humidity over 100"
   ]
  },
  {
   "cell_type": "code",
   "execution_count": 10,
   "metadata": {},
   "outputs": [],
   "source": [
    "# Make a new DataFrame equal to the city data to drop all humidity outliers by index.\n",
    "# Passing \"inplace=False\" will make a copy of the city_data DataFrame, which we call \"clean_city_data\".\n"
   ]
  },
  {
   "cell_type": "markdown",
   "metadata": {},
   "source": [
    "## Plotting the Data\n",
    "* Use proper labeling of the plots using plot titles (including date of analysis) and axes labels.\n",
    "* Save the plotted figures as .pngs."
   ]
  },
  {
   "cell_type": "markdown",
   "metadata": {},
   "source": [
    "## Latitude vs. Temperature Plot"
   ]
  },
  {
   "cell_type": "code",
   "execution_count": 1,
   "metadata": {},
   "outputs": [
    {
     "ename": "NameError",
     "evalue": "name 'plt' is not defined",
     "output_type": "error",
     "traceback": [
      "\u001b[0;31m---------------------------------------------------------------------------\u001b[0m",
      "\u001b[0;31mNameError\u001b[0m                                 Traceback (most recent call last)",
      "\u001b[0;32m<ipython-input-1-3663cf29c645>\u001b[0m in \u001b[0;36m<module>\u001b[0;34m\u001b[0m\n\u001b[0;32m----> 1\u001b[0;31m \u001b[0mplt\u001b[0m\u001b[0;34m.\u001b[0m\u001b[0mscatter\u001b[0m\u001b[0;34m(\u001b[0m\u001b[0mcity_data\u001b[0m\u001b[0;34m[\u001b[0m\u001b[0;34m'Lat'\u001b[0m\u001b[0;34m]\u001b[0m\u001b[0;34m,\u001b[0m \u001b[0mcity_data\u001b[0m\u001b[0;34m[\u001b[0m\u001b[0;34m'Max Temp'\u001b[0m\u001b[0;34m]\u001b[0m\u001b[0;34m,\u001b[0m \u001b[0mmarker\u001b[0m \u001b[0;34m=\u001b[0m \u001b[0;34m\"o\"\u001b[0m\u001b[0;34m,\u001b[0m \u001b[0medgecolor\u001b[0m\u001b[0;34m=\u001b[0m\u001b[0;34m'black'\u001b[0m\u001b[0;34m)\u001b[0m\u001b[0;34m\u001b[0m\u001b[0;34m\u001b[0m\u001b[0m\n\u001b[0m\u001b[1;32m      2\u001b[0m \u001b[0;34m\u001b[0m\u001b[0m\n\u001b[1;32m      3\u001b[0m \u001b[0;31m# Add labels and title to plot\u001b[0m\u001b[0;34m\u001b[0m\u001b[0;34m\u001b[0m\u001b[0;34m\u001b[0m\u001b[0m\n\u001b[1;32m      4\u001b[0m \u001b[0mplt\u001b[0m\u001b[0;34m.\u001b[0m\u001b[0mxlabel\u001b[0m\u001b[0;34m(\u001b[0m\u001b[0;34m\"Latitude\"\u001b[0m\u001b[0;34m)\u001b[0m\u001b[0;34m\u001b[0m\u001b[0;34m\u001b[0m\u001b[0m\n\u001b[1;32m      5\u001b[0m \u001b[0mplt\u001b[0m\u001b[0;34m.\u001b[0m\u001b[0mylabel\u001b[0m\u001b[0;34m(\u001b[0m\u001b[0;34m\"Max Temperature (F)\"\u001b[0m\u001b[0;34m)\u001b[0m\u001b[0;34m\u001b[0m\u001b[0;34m\u001b[0m\u001b[0m\n",
      "\u001b[0;31mNameError\u001b[0m: name 'plt' is not defined"
     ]
    }
   ],
   "source": [
    "plt.scatter(city_data['Lat'], city_data['Max Temp'], marker = \"o\", edgecolor='black')\n",
    "\n",
    "# Add labels and title to plot\n",
    "plt.xlabel(\"Latitude\")\n",
    "plt.ylabel(\"Max Temperature (F)\")\n",
    "plt.title('City Latitude vs Max Temperature on 16/09/2021')\n",
    "plt.grid(True)\n",
    "plt.savefig(\"output_data/City Latitude vs Max Temperature.png\")\n",
    "\n",
    "# Display plot\n",
    "plt.show()"
   ]
  },
  {
   "cell_type": "markdown",
   "metadata": {},
   "source": [
    "\n",
    "Observation: As the latitude  increases or decreases, the temparature drops. Highest temperature is recorded near the equator"
   ]
  },
  {
   "cell_type": "code",
   "execution_count": 14,
   "metadata": {},
   "outputs": [],
   "source": [
    "#Plot shows latitude vs temperature. \n",
    "#Cities which are closer to the eaquator are hotter. \n"
   ]
  },
  {
   "cell_type": "markdown",
   "metadata": {},
   "source": [
    "## Latitude vs. Humidity Plot"
   ]
  },
  {
   "cell_type": "code",
   "execution_count": 15,
   "metadata": {},
   "outputs": [
    {
     "data": {
      "image/png": "[encoded data removed]",
      "text/plain": [
       "<Figure size 432x288 with 1 Axes>"
      ]
     },
     "metadata": {
      "needs_background": "light"
     },
     "output_type": "display_data"
    }
   ],
   "source": [
    "# Create a scatter plot based on new dataframe above (weather data frame )\n",
    "plt.scatter(city_data['Lat'], city_data['Humidity'], marker = \"o\", edgecolor='black')\n",
    "\n",
    "# Add labels and title to plot\n",
    "plt.xlabel(\"Latitude\")\n",
    "plt.ylabel(\"Humidity (%)\")\n",
    "plt.title('City Latitude vs Humidity  on 16/09/2021')\n",
    "plt.grid(True)\n",
    "plt.savefig(\"output_data/City Latitude vs Humidity.png\")\n",
    "plt.show()"
   ]
  },
  {
   "cell_type": "markdown",
   "metadata": {},
   "source": [
    " Humidity is randomly spread across the globe. No relation here"
   ]
  },
  {
   "cell_type": "markdown",
   "metadata": {},
   "source": [
    "## Latitude vs. Cloudiness Plot"
   ]
  },
  {
   "cell_type": "code",
   "execution_count": 16,
   "metadata": {},
   "outputs": [
    {
     "data": {
      "image/png": "[encoded data removed]",
      "text/plain": [
       "<Figure size 432x288 with 1 Axes>"
      ]
     },
     "metadata": {
      "needs_background": "light"
     },
     "output_type": "display_data"
    }
   ],
   "source": [
    "# Create a scatter plot based on new dataframe above (weather data frame )\n",
    "plt.scatter(city_data['Lat'], city_data['Cloudiness'], marker = \"o\", edgecolor='black')\n",
    "\n",
    "\n",
    "# Add labels and title to plot\n",
    "plt.xlabel(\"Latitude\")\n",
    "plt.ylabel(\"Cloudiness (%)\")\n",
    "plt.title('City Latitude vs Cloudiness(%) on 16/09/2021')\n",
    "plt.grid(True)\n",
    "plt.savefig(\"output_data/City Latitude vs Cloudiness.png\")\n",
    "plt.show()"
   ]
  },
  {
   "cell_type": "markdown",
   "metadata": {},
   "source": [
    " Cloudiness is randomly spread across the globe"
   ]
  },
  {
   "cell_type": "markdown",
   "metadata": {},
   "source": [
    "## Latitude vs. Wind Speed Plot"
   ]
  },
  {
   "cell_type": "code",
   "execution_count": 17,
   "metadata": {},
   "outputs": [
    {
     "data": {
      "image/png": "[encoded data removed]",
      "text/plain": [
       "<Figure size 432x288 with 1 Axes>"
      ]
     },
     "metadata": {
      "needs_background": "light"
     },
     "output_type": "display_data"
    }
   ],
   "source": [
    "# Create a scatter plot based on new dataframe above (weather data frame )\n",
    "plt.scatter(city_data['Lat'], city_data['Wind Speed'], marker = \"o\", edgecolor='black')\n",
    "\n",
    "# Add labels and title to plot\n",
    "plt.xlabel(\"Latitude\")\n",
    "plt.ylabel(\"Wind Speed (mph)\")\n",
    "plt.title('City Latitude vs. Wind Speed on 16/09/2021')\n",
    "plt.grid(True)\n",
    "plt.savefig(\"output_data/City Latitude vs Wind Speed.png\")\n",
    "\n",
    "# Display plot\n",
    "plt.show()"
   ]
  },
  {
   "cell_type": "markdown",
   "metadata": {},
   "source": [
    "We can see the wind speed is higher around the prime meridian"
   ]
  },
  {
   "cell_type": "markdown",
   "metadata": {},
   "source": [
    "## Linear Regression"
   ]
  },
  {
   "cell_type": "code",
   "execution_count": 18,
   "metadata": {},
   "outputs": [],
   "source": [
    "\n",
    "northern_hemisphere = city_data.loc[city_data[\"Lat\"] >= 0.0]\n",
    "northern_hemisphere.reset_index(inplace=True)\n",
    "\n",
    "southern_hemisphere = city_data.loc[city_data[\"Lat\"] < 0.0]\n",
    "southern_hemisphere.reset_index(inplace=True)"
   ]
  },
  {
   "cell_type": "code",
   "execution_count": 19,
   "metadata": {},
   "outputs": [
    {
     "data": {
      "text/html": [
       "<div>\n",
       "<style scoped>\n",
       "    .dataframe tbody tr th:only-of-type {\n",
       "        vertical-align: middle;\n",
       "    }\n",
       "\n",
       "    .dataframe tbody tr th {\n",
       "        vertical-align: top;\n",
       "    }\n",
       "\n",
       "    .dataframe thead th {\n",
       "        text-align: right;\n",
       "    }\n",
       "</style>\n",
       "<table border=\"1\" class=\"dataframe\">\n",
       "  <thead>\n",
       "    <tr style=\"text-align: right;\">\n",
       "      <th></th>\n",
       "      <th>index</th>\n",
       "      <th>City</th>\n",
       "      <th>Lat</th>\n",
       "      <th>Lng</th>\n",
       "      <th>Max Temp</th>\n",
       "      <th>Humidity</th>\n",
       "      <th>Cloudiness</th>\n",
       "      <th>Wind Speed</th>\n",
       "      <th>Country</th>\n",
       "      <th>Date</th>\n",
       "    </tr>\n",
       "  </thead>\n",
       "  <tbody>\n",
       "    <tr>\n",
       "      <th>0</th>\n",
       "      <td>0</td>\n",
       "      <td>Saskylakh</td>\n",
       "      <td>71.9167</td>\n",
       "      <td>114.0833</td>\n",
       "      <td>34.38</td>\n",
       "      <td>97</td>\n",
       "      <td>100</td>\n",
       "      <td>19.57</td>\n",
       "      <td>RU</td>\n",
       "      <td>1631812804</td>\n",
       "    </tr>\n",
       "    <tr>\n",
       "      <th>1</th>\n",
       "      <td>2</td>\n",
       "      <td>Moscow</td>\n",
       "      <td>55.7522</td>\n",
       "      <td>37.6156</td>\n",
       "      <td>46.83</td>\n",
       "      <td>67</td>\n",
       "      <td>100</td>\n",
       "      <td>6.93</td>\n",
       "      <td>RU</td>\n",
       "      <td>1631812729</td>\n",
       "    </tr>\n",
       "    <tr>\n",
       "      <th>2</th>\n",
       "      <td>5</td>\n",
       "      <td>Jamestown</td>\n",
       "      <td>42.0970</td>\n",
       "      <td>-79.2353</td>\n",
       "      <td>75.02</td>\n",
       "      <td>52</td>\n",
       "      <td>1</td>\n",
       "      <td>7.00</td>\n",
       "      <td>US</td>\n",
       "      <td>1631812376</td>\n",
       "    </tr>\n",
       "    <tr>\n",
       "      <th>3</th>\n",
       "      <td>6</td>\n",
       "      <td>Nanortalik</td>\n",
       "      <td>60.1432</td>\n",
       "      <td>-45.2371</td>\n",
       "      <td>37.53</td>\n",
       "      <td>78</td>\n",
       "      <td>100</td>\n",
       "      <td>2.86</td>\n",
       "      <td>GL</td>\n",
       "      <td>1631812809</td>\n",
       "    </tr>\n",
       "    <tr>\n",
       "      <th>4</th>\n",
       "      <td>7</td>\n",
       "      <td>São Filipe</td>\n",
       "      <td>14.8961</td>\n",
       "      <td>-24.4956</td>\n",
       "      <td>80.87</td>\n",
       "      <td>76</td>\n",
       "      <td>90</td>\n",
       "      <td>12.73</td>\n",
       "      <td>CV</td>\n",
       "      <td>1631812810</td>\n",
       "    </tr>\n",
       "  </tbody>\n",
       "</table>\n",
       "</div>"
      ],
      "text/plain": [
       "   index        City      Lat       Lng  Max Temp  Humidity  Cloudiness  \\\n",
       "0      0   Saskylakh  71.9167  114.0833     34.38        97         100   \n",
       "1      2      Moscow  55.7522   37.6156     46.83        67         100   \n",
       "2      5   Jamestown  42.0970  -79.2353     75.02        52           1   \n",
       "3      6  Nanortalik  60.1432  -45.2371     37.53        78         100   \n",
       "4      7  São Filipe  14.8961  -24.4956     80.87        76          90   \n",
       "\n",
       "   Wind Speed Country        Date  \n",
       "0       19.57      RU  1631812804  \n",
       "1        6.93      RU  1631812729  \n",
       "2        7.00      US  1631812376  \n",
       "3        2.86      GL  1631812809  \n",
       "4       12.73      CV  1631812810  "
      ]
     },
     "execution_count": 19,
     "metadata": {},
     "output_type": "execute_result"
    }
   ],
   "source": [
    "northern_hemisphere.head()"
   ]
  },
  {
   "cell_type": "code",
   "execution_count": 20,
   "metadata": {},
   "outputs": [
    {
     "data": {
      "text/html": [
       "<div>\n",
       "<style scoped>\n",
       "    .dataframe tbody tr th:only-of-type {\n",
       "        vertical-align: middle;\n",
       "    }\n",
       "\n",
       "    .dataframe tbody tr th {\n",
       "        vertical-align: top;\n",
       "    }\n",
       "\n",
       "    .dataframe thead th {\n",
       "        text-align: right;\n",
       "    }\n",
       "</style>\n",
       "<table border=\"1\" class=\"dataframe\">\n",
       "  <thead>\n",
       "    <tr style=\"text-align: right;\">\n",
       "      <th></th>\n",
       "      <th>index</th>\n",
       "      <th>City</th>\n",
       "      <th>Lat</th>\n",
       "      <th>Lng</th>\n",
       "      <th>Max Temp</th>\n",
       "      <th>Humidity</th>\n",
       "      <th>Cloudiness</th>\n",
       "      <th>Wind Speed</th>\n",
       "      <th>Country</th>\n",
       "      <th>Date</th>\n",
       "    </tr>\n",
       "  </thead>\n",
       "  <tbody>\n",
       "    <tr>\n",
       "      <th>0</th>\n",
       "      <td>1</td>\n",
       "      <td>Hithadhoo</td>\n",
       "      <td>-0.6000</td>\n",
       "      <td>73.0833</td>\n",
       "      <td>83.91</td>\n",
       "      <td>70</td>\n",
       "      <td>100</td>\n",
       "      <td>9.78</td>\n",
       "      <td>MV</td>\n",
       "      <td>1631812805</td>\n",
       "    </tr>\n",
       "    <tr>\n",
       "      <th>1</th>\n",
       "      <td>3</td>\n",
       "      <td>Rikitea</td>\n",
       "      <td>-23.1203</td>\n",
       "      <td>-134.9692</td>\n",
       "      <td>73.17</td>\n",
       "      <td>77</td>\n",
       "      <td>7</td>\n",
       "      <td>14.70</td>\n",
       "      <td>PF</td>\n",
       "      <td>1631812807</td>\n",
       "    </tr>\n",
       "    <tr>\n",
       "      <th>2</th>\n",
       "      <td>4</td>\n",
       "      <td>Bluff</td>\n",
       "      <td>-46.6000</td>\n",
       "      <td>168.3333</td>\n",
       "      <td>36.81</td>\n",
       "      <td>73</td>\n",
       "      <td>70</td>\n",
       "      <td>11.95</td>\n",
       "      <td>NZ</td>\n",
       "      <td>1631812807</td>\n",
       "    </tr>\n",
       "    <tr>\n",
       "      <th>3</th>\n",
       "      <td>8</td>\n",
       "      <td>Saldanha</td>\n",
       "      <td>-33.0117</td>\n",
       "      <td>17.9442</td>\n",
       "      <td>57.25</td>\n",
       "      <td>68</td>\n",
       "      <td>0</td>\n",
       "      <td>24.54</td>\n",
       "      <td>ZA</td>\n",
       "      <td>1631812810</td>\n",
       "    </tr>\n",
       "    <tr>\n",
       "      <th>4</th>\n",
       "      <td>10</td>\n",
       "      <td>Ushuaia</td>\n",
       "      <td>-54.8000</td>\n",
       "      <td>-68.3000</td>\n",
       "      <td>40.62</td>\n",
       "      <td>60</td>\n",
       "      <td>75</td>\n",
       "      <td>6.91</td>\n",
       "      <td>AR</td>\n",
       "      <td>1631812812</td>\n",
       "    </tr>\n",
       "  </tbody>\n",
       "</table>\n",
       "</div>"
      ],
      "text/plain": [
       "   index       City      Lat       Lng  Max Temp  Humidity  Cloudiness  \\\n",
       "0      1  Hithadhoo  -0.6000   73.0833     83.91        70         100   \n",
       "1      3    Rikitea -23.1203 -134.9692     73.17        77           7   \n",
       "2      4      Bluff -46.6000  168.3333     36.81        73          70   \n",
       "3      8   Saldanha -33.0117   17.9442     57.25        68           0   \n",
       "4     10    Ushuaia -54.8000  -68.3000     40.62        60          75   \n",
       "\n",
       "   Wind Speed Country        Date  \n",
       "0        9.78      MV  1631812805  \n",
       "1       14.70      PF  1631812807  \n",
       "2       11.95      NZ  1631812807  \n",
       "3       24.54      ZA  1631812810  \n",
       "4        6.91      AR  1631812812  "
      ]
     },
     "execution_count": 20,
     "metadata": {},
     "output_type": "execute_result"
    }
   ],
   "source": [
    "southern_hemisphere.head()"
   ]
  },
  {
   "cell_type": "code",
   "execution_count": 21,
   "metadata": {},
   "outputs": [],
   "source": [
    "def plot_Linear_Regression(xdata,ydata,xlabel,ylabel,name):\n",
    "    (slope, intercept, rvalue, pvalue, stderr) = stats.linregress(xdata, ydata)\n",
    "    print(f\"The r-value is: {rvalue}\")\n",
    "    regress_values = xdata * slope + intercept\n",
    "    line_eq = \"y = \" + str(round(slope,2)) + \"x + \" + str(round(intercept,2))\n",
    "    plt.scatter(xdata,ydata)\n",
    "    plt.plot(xdata,regress_values,\"r-\")\n",
    "    plt.annotate(line_eq,(70,50),xycoords='figure points',fontsize=12,color=\"red\")\n",
    "    plt.grid()\n",
    "    plt.xlabel(xlabel)\n",
    "    plt.ylabel(ylabel)\n",
    "    plt.savefig(name)\n",
    "    plt.show()"
   ]
  },
  {
   "cell_type": "markdown",
   "metadata": {},
   "source": [
    "####  Northern Hemisphere - Max Temp vs. Latitude Linear Regression"
   ]
  },
  {
   "cell_type": "code",
   "execution_count": 22,
   "metadata": {},
   "outputs": [
    {
     "name": "stdout",
     "output_type": "stream",
     "text": [
      "The r-value is: -0.8381067608188747\n"
     ]
    },
    {
     "data": {
      "image/png": "[encoded data removed]",
      "text/plain": [
       "<Figure size 432x288 with 1 Axes>"
      ]
     },
     "metadata": {
      "needs_background": "light"
     },
     "output_type": "display_data"
    }
   ],
   "source": [
    "\n",
    "# Northern Hemisphere - Max Temp vs. Latitude Linear Regression\n",
    "xlabel = \"Lat\"\n",
    "ylabel = \"Max Temp\"\n",
    "plt.title('Northern Hemisphere - Max Temp vs. Latitude Linear Regression')\n",
    "plot_Linear_Regression(northern_hemisphere[xlabel],northern_hemisphere[ylabel],xlabel,ylabel,\"output_data/Northern Hemisphere - Max Temp vs. Latitude Linear Regression.png\")"
   ]
  },
  {
   "cell_type": "markdown",
   "metadata": {},
   "source": [
    "####  Southern Hemisphere - Max Temp vs. Latitude Linear Regression"
   ]
  },
  {
   "cell_type": "code",
   "execution_count": 23,
   "metadata": {},
   "outputs": [
    {
     "name": "stdout",
     "output_type": "stream",
     "text": [
      "The r-value is: 0.7355486911344499\n"
     ]
    },
    {
     "data": {
      "image/png": "[encoded data removed]",
      "text/plain": [
       "<Figure size 432x288 with 1 Axes>"
      ]
     },
     "metadata": {
      "needs_background": "light"
     },
     "output_type": "display_data"
    }
   ],
   "source": [
    "# Southern Hemisphere - Max Temp vs. Latitude Linear Regression\n",
    "xlabel = \"Lat\"\n",
    "ylabel = \"Max Temp\"\n",
    "plt.title('Southern Hemisphere - Max Temp vs. Latitude Linear Regression')\n",
    "plot_Linear_Regression(southern_hemisphere[xlabel],southern_hemisphere[ylabel],xlabel,ylabel,\"output_data/Southern Hemisphere - Max Temp vs. Latitude Linear Regression.png\")"
   ]
  },
  {
   "cell_type": "markdown",
   "metadata": {},
   "source": [
    "####  Northern Hemisphere - Humidity (%) vs. Latitude Linear Regression"
   ]
  },
  {
   "cell_type": "code",
   "execution_count": 24,
   "metadata": {},
   "outputs": [
    {
     "name": "stdout",
     "output_type": "stream",
     "text": [
      "The r-value is: 0.1763591748140387\n"
     ]
    },
    {
     "data": {
      "image/png": "[encoded data removed]",
      "text/plain": [
       "<Figure size 432x288 with 1 Axes>"
      ]
     },
     "metadata": {
      "needs_background": "light"
     },
     "output_type": "display_data"
    }
   ],
   "source": [
    "# Northern Hemisphere - Humidity (%) vs. Latitude Linear Regression\n",
    "xlabel = \"Lat\"\n",
    "ylabel = \"Humidity\"\n",
    "plt.title('Northern Hemisphere - Humidity (%) vs. Latitude Linear Regression')\n",
    "plot_Linear_Regression(northern_hemisphere[xlabel],northern_hemisphere[ylabel],xlabel,ylabel,\"output_data/Northern Hemisphere - Humidity (%) vs. Latitude Linear Regression.png\")"
   ]
  },
  {
   "cell_type": "markdown",
   "metadata": {},
   "source": [
    "####  Southern Hemisphere - Humidity (%) vs. Latitude Linear Regression"
   ]
  },
  {
   "cell_type": "code",
   "execution_count": 25,
   "metadata": {},
   "outputs": [
    {
     "name": "stdout",
     "output_type": "stream",
     "text": [
      "The r-value is: 0.022613053100493153\n"
     ]
    },
    {
     "data": {
      "image/png": "[encoded data removed]",
      "text/plain": [
       "<Figure size 432x288 with 1 Axes>"
      ]
     },
     "metadata": {
      "needs_background": "light"
     },
     "output_type": "display_data"
    }
   ],
   "source": [
    "# Southern Hemisphere - Humidity (%) vs. Latitude Linear Regression\n",
    "xlabel = \"Lat\"\n",
    "ylabel = \"Humidity\"\n",
    "plt.title('Southern Hemisphere - Humidity (%) vs. Latitude Linear Regression')\n",
    "plot_Linear_Regression(southern_hemisphere[xlabel],southern_hemisphere[ylabel],xlabel,ylabel,\"output_data/Southern Hemisphere - Humidity (%) vs. Latitude Linear Regression.png\")"
   ]
  },
  {
   "cell_type": "markdown",
   "metadata": {},
   "source": [
    "####  Northern Hemisphere - Cloudiness (%) vs. Latitude Linear Regression"
   ]
  },
  {
   "cell_type": "code",
   "execution_count": 26,
   "metadata": {},
   "outputs": [
    {
     "name": "stdout",
     "output_type": "stream",
     "text": [
      "The r-value is: 0.1349586218738115\n"
     ]
    },
    {
     "data": {
      "image/png": "[encoded data removed]",
      "text/plain": [
       "<Figure size 432x288 with 1 Axes>"
      ]
     },
     "metadata": {
      "needs_background": "light"
     },
     "output_type": "display_data"
    }
   ],
   "source": [
    "# Northern Hemisphere - Cloudiness (%) vs. Latitude Linear Regression\n",
    "xlabel = \"Lat\"\n",
    "ylabel = \"Cloudiness\"\n",
    "plt.title('Northern Hemisphere - Cloudiness (%) vs. Latitude Linear Regression')\n",
    "plot_Linear_Regression(northern_hemisphere[xlabel],northern_hemisphere[ylabel],xlabel,ylabel,\"output_data/Northern Hemisphere - Cloudiness (%) vs. Latitude Linear Regression.png\")"
   ]
  },
  {
   "cell_type": "markdown",
   "metadata": {},
   "source": [
    "####  Southern Hemisphere - Cloudiness (%) vs. Latitude Linear Regression"
   ]
  },
  {
   "cell_type": "code",
   "execution_count": 27,
   "metadata": {},
   "outputs": [
    {
     "name": "stdout",
     "output_type": "stream",
     "text": [
      "The r-value is: 0.10375960036240528\n"
     ]
    },
    {
     "data": {
      "image/png": "[encoded data removed]",
      "text/plain": [
       "<Figure size 432x288 with 1 Axes>"
      ]
     },
     "metadata": {
      "needs_background": "light"
     },
     "output_type": "display_data"
    }
   ],
   "source": [
    "# Southern Hemisphere - Cloudiness (%) vs. Latitude Linear Regression\n",
    "xlabel = \"Lat\"\n",
    "ylabel = \"Cloudiness\"\n",
    "plt.title('Southern Hemisphere - Cloudiness (%) vs. Latitude Linear Regression')\n",
    "plot_Linear_Regression(southern_hemisphere[xlabel],southern_hemisphere[ylabel],xlabel,ylabel,\"output_data/Southern Hemisphere - Cloudiness (%) vs. Latitude Linear Regression.png\")"
   ]
  },
  {
   "cell_type": "markdown",
   "metadata": {},
   "source": [
    "####  Northern Hemisphere - Wind Speed (mph) vs. Latitude Linear Regression"
   ]
  },
  {
   "cell_type": "code",
   "execution_count": 28,
   "metadata": {},
   "outputs": [
    {
     "name": "stdout",
     "output_type": "stream",
     "text": [
      "The r-value is: 0.044128721964930014\n"
     ]
    },
    {
     "data": {
      "image/png": "[encoded data removed]",
      "text/plain": [
       "<Figure size 432x288 with 1 Axes>"
      ]
     },
     "metadata": {
      "needs_background": "light"
     },
     "output_type": "display_data"
    }
   ],
   "source": [
    "# Northern Hemisphere - Wind Speed (mph) vs. Latitude Linear Regression\n",
    "xlabel = \"Lat\"\n",
    "ylabel = \"Wind Speed\"\n",
    "plt.title('Northern Hemisphere - Wind Speed (mph) vs. Latitude Linear Regression')\n",
    "plot_Linear_Regression(northern_hemisphere[xlabel],northern_hemisphere[ylabel],xlabel,ylabel,\"output_data/Northern Hemisphere - Wind Speed (mph) vs. Latitude Linear Regression.png\")"
   ]
  },
  {
   "cell_type": "markdown",
   "metadata": {},
   "source": [
    "####  Southern Hemisphere - Wind Speed (mph) vs. Latitude Linear Regression"
   ]
  },
  {
   "cell_type": "code",
   "execution_count": 29,
   "metadata": {},
   "outputs": [
    {
     "name": "stdout",
     "output_type": "stream",
     "text": [
      "The r-value is: -0.1837163135192352\n"
     ]
    },
    {
     "data": {
      "image/png": "[encoded data removed]",
      "text/plain": [
       "<Figure size 432x288 with 1 Axes>"
      ]
     },
     "metadata": {
      "needs_background": "light"
     },
     "output_type": "display_data"
    }
   ],
   "source": [
    "# Southern Hemisphere - Wind Speed (mph) vs. Latitude Linear Regression\n",
    "xlabel = \"Lat\"\n",
    "ylabel = \"Wind Speed\"\n",
    "plt.title('Southern Hemisphere - Wind Speed (mph) vs. Latitude Linear Regression')\n",
    "plot_Linear_Regression(southern_hemisphere[xlabel],southern_hemisphere[ylabel],xlabel,ylabel,\"output_data/Southern Hemisphere - Wind Speed (mph) vs. Latitude Linear Regression.png\")"
   ]
  },
  {
   "cell_type": "code",
   "execution_count": null,
   "metadata": {},
   "outputs": [],
   "source": []
  }
 ],
 "metadata": {
  "anaconda-cloud": {},
  "kernel_info": {
   "name": "python3"
  },
  "kernelspec": {
   "display_name": "Python 3",
   "language": "python",
   "name": "python3"
  },
  "language_info": {
   "codemirror_mode": {
    "name": "ipython",
    "version": 3
   },
   "file_extension": ".py",
   "mimetype": "text/x-python",
   "name": "python",
   "nbconvert_exporter": "python",
   "pygments_lexer": "ipython3",
   "version": "3.8.8"
  },
  "latex_envs": {
   "LaTeX_envs_menu_present": true,
   "autoclose": false,
   "autocomplete": true,
   "bibliofile": "biblio.bib",
   "cite_by": "apalike",
   "current_citInitial": 1,
   "eqLabelWithNumbers": true,
   "eqNumInitial": 1,
   "hotkeys": {
    "equation": "Ctrl-E",
    "itemize": "Ctrl-I"
   },
   "labels_anchors": false,
   "latex_user_defs": false,
   "report_style_numbering": false,
   "user_envs_cfg": false
  },
  "nteract": {
   "version": "0.12.3"
  }
 },
 "nbformat": 4,
 "nbformat_minor": 2
}
